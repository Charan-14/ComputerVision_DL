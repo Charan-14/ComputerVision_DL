{
 "cells": [
  {
   "cell_type": "code",
   "execution_count": 1,
   "metadata": {},
   "outputs": [],
   "source": [
    "import cv2 as cv\n",
    "%matplotlib inline\n",
    "import matplotlib.pyplot as plt\n",
    "import openpyxl"
   ]
  },
  {
   "cell_type": "code",
   "execution_count": null,
   "metadata": {},
   "outputs": [],
   "source": [
    "#CV based Text Detection\n",
    "img = cv.imread(\"test.png\")\n",
    "\n",
    "gray = cv.cvtColor(img, cv.COLOR_BGR2GRAY)\n",
    "\n",
    "# Performing OTSU threshold \n",
    "ret, thresh1 = cv.threshold(gray, 0, 255, cv.THRESH_OTSU | cv.THRESH_BINARY_INV) \n",
    "  \n",
    "# Specify structure shape and kernel\n",
    "rect_kernel = cv.getStructuringElement(cv.MORPH_RECT, (14, 14)) \n",
    "  \n",
    "# Appplying dilation on the threshold image \n",
    "dilation = cv.dilate(thresh1, rect_kernel, iterations = 1) \n",
    "  \n",
    "# Finding contours \n",
    "contours, hierarchy = cv.findContours(dilation, cv.RETR_EXTERNAL, cv.CHAIN_APPROX_NONE) \n",
    "  \n",
    "# Creating a copy of image \n",
    "im2 = img.copy() \n",
    "\n",
    "for cnt in contours: \n",
    "    x, y, w, h = cv.boundingRect(cnt) \n",
    "      \n",
    "    # Drawing a rectangle on copied image \n",
    "    rect = cv.rectangle(im2, (x, y), (x + w, y + h), (0, 255, 0), 2) \n",
    "      \n",
    "    # Cropping the text block for giving input to OCR \n",
    "    cropped = im2[y:y + h, x:x + w] \n",
    "      \n",
    "      \n",
    "    # Apply OCR on the cropped image \n",
    "    #text = pytesseract.image_to_string(cropped) \n",
    "\n",
    "cv(\"conts\", im2)\n",
    "cv.imshow(\"tresh\", thresh1)\n",
    "cv.waitKey(0)\n",
    "cv.destroyAllWindows()\n",
    "\n"
   ]
  },
  {
   "cell_type": "code",
   "execution_count": null,
   "metadata": {},
   "outputs": [],
   "source": [
    "#DL Based Text Detection\n",
    "\n",
    "#img =  cv.resize(img, (320,320))\n",
    "\n",
    "#inpWidth = img.shape[0]\n",
    "#inpHeight = img.shape[1]\n",
    "# #Model create from weights\n",
    "# net = cv.dnn.readNet(\"frozen_east_text_detection.pb\")\n",
    "\n",
    "# #Create 4D blob from image\n",
    "# blob = cv.dnn.blobFromImage(img, 1, (inpWidth, inpHeight), (123.68, 116.78, 103.94), True, False)\n",
    "\n",
    "# #Extracting scores and bounding box dimensions\n",
    "# outputLayers = []\n",
    "\n",
    "# outputLayers.append(\"feature_fusion/Conv_7/Sigmoid\")\n",
    "# outputLayers.append(\"feature_fusion/concat_3\")\n",
    "\n",
    "# #Input to network\n",
    "# net.setInput(blob)\n",
    "\n",
    "# #Output of network\n",
    "# output = net.Forward(outputLayers)\n",
    "\n",
    "# scores = output[0]\n",
    "# geometry = output[1]\n",
    "\n",
    "# #NMS\n",
    "# [boxes, confidences] = decode(scores, geometry, confThreshold)\n",
    "\n",
    "# indices = cv.dnn.NMSBoxesRotated(boxes, confidences, confThreshold, nmsThreshold)\n",
    "\n",
    "# print(indices)\n"
   ]
  }
 ],
 "metadata": {
  "kernelspec": {
   "display_name": "Python 3",
   "language": "python",
   "name": "python3"
  },
  "language_info": {
   "codemirror_mode": {
    "name": "ipython",
    "version": 3
   },
   "file_extension": ".py",
   "mimetype": "text/x-python",
   "name": "python",
   "nbconvert_exporter": "python",
   "pygments_lexer": "ipython3",
   "version": "3.6.9"
  }
 },
 "nbformat": 4,
 "nbformat_minor": 4
}
